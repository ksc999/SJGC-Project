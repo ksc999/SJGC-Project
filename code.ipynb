{
 "cells": [
  {
   "cell_type": "code",
   "execution_count": 17,
   "metadata": {},
   "outputs": [
    {
     "name": "stdout",
     "output_type": "stream",
     "text": [
      "[ 12.56904762  14.09904762  10.78904762  12.40904762  10.21904762\n",
      "   4.91904762   7.44904762  -0.59095238   1.52904762  -6.98095238\n",
      "  -1.32095238  -1.20095238  -2.53095238   6.08904762   6.49904762\n",
      "  -4.64095238 -11.18095238 -12.54095238 -20.52095238 -16.01095238\n",
      "  -9.05095238]\n"
     ]
    }
   ],
   "source": [
    "import pandas as pd\n",
    "import numpy as np\n",
    "\n",
    "data = pd.read_csv(\"./data/adsk/adsk_1M.csv\")\n",
    "money = data['Close/Last']\n",
    "money = list(map(lambda str_money: float(str_money[1:]), money))    # convert str to float\n",
    "money = np.array(money)\n",
    "money_mean = np.mean(money)\n",
    "money -= money_mean # normalization\n",
    "print(money)"
   ]
  },
  {
   "cell_type": "code",
   "execution_count": null,
   "metadata": {},
   "outputs": [],
   "source": [
    "import pandas as pd\n",
    "import numpy as np\n",
    "from scipy.optimize import minimize\n",
    "\n",
    "class MyGPR:\n",
    "    def __init__(self, data_path, train_ratio):\n",
    "        pass"
   ]
  },
  {
   "cell_type": "code",
   "execution_count": 30,
   "metadata": {},
   "outputs": [
    {
     "name": "stdout",
     "output_type": "stream",
     "text": [
      "[3 4]\n",
      "4\n"
     ]
    }
   ],
   "source": [
    "a = np.arange(2)\n",
    "b = np.array([[1,2], [3,4]])\n",
    "c = np.dot(a.reshape(-1, 1), b.reshape(1, -1))\n",
    "print(a @ b)\n",
    "d = np.dot(a, a @ b)\n",
    "print(d)"
   ]
  },
  {
   "cell_type": "code",
   "execution_count": 39,
   "metadata": {},
   "outputs": [
    {
     "name": "stdout",
     "output_type": "stream",
     "text": [
      "{'l': 0, 'sigma_f': 1, 'sigma_n': 2}\n",
      "[1]\n"
     ]
    }
   ],
   "source": [
    "a = {'l': (1e-4, 1e4), 'sigma_f': (1e-4, 1e4), 'sigma_n': (1e-10, 1e-2)}\n",
    "b = [0, 1, 2]\n",
    "for i, j in zip(a.keys(), b):\n",
    "    a[i] = j\n",
    "print(a)\n",
    "print(b[1:-1])"
   ]
  }
 ],
 "metadata": {
  "interpreter": {
   "hash": "cd8ac7ed5329ff1f59a8356dfddf06d159cf18414acbfd7b13d1d5cd1cbb5d7d"
  },
  "kernelspec": {
   "display_name": "Python 3.8.8 64-bit ('base': conda)",
   "language": "python",
   "name": "python3"
  },
  "language_info": {
   "codemirror_mode": {
    "name": "ipython",
    "version": 3
   },
   "file_extension": ".py",
   "mimetype": "text/x-python",
   "name": "python",
   "nbconvert_exporter": "python",
   "pygments_lexer": "ipython3",
   "version": "3.8.8"
  },
  "orig_nbformat": 4
 },
 "nbformat": 4,
 "nbformat_minor": 2
}
